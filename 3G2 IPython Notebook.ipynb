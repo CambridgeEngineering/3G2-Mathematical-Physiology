{
 "cells": [
  {
   "cell_type": "markdown",
   "metadata": {},
   "source": [
    "## 3G2 Python Code"
   ]
  },
  {
   "cell_type": "markdown",
   "metadata": {},
   "source": [
    "### Import Packages"
   ]
  },
  {
   "cell_type": "code",
   "execution_count": 1,
   "metadata": {},
   "outputs": [],
   "source": [
    "import numpy as np # allows the use of arrays, and provides many useful functions\n",
    "import matplotlib.pyplot as plt # plotting functionality\n",
    "from scipy import integrate # numerical integration tool for ode's"
   ]
  },
  {
   "cell_type": "markdown",
   "metadata": {},
   "source": [
    "### Physiological Parameters"
   ]
  },
  {
   "cell_type": "code",
   "execution_count": 2,
   "metadata": {},
   "outputs": [],
   "source": [
    "p = dict(Pl=1500, M=0.45, K=250000, B=100, x01=0.1, dx0=0.01, tau=0.002)"
   ]
  },
  {
   "cell_type": "markdown",
   "metadata": {},
   "source": [
    "### ODE Definition\n",
    "Define the function $f$ on the right hand side of,\n",
    "$$\n",
    "\\frac{d\\mathbf{x}}{d t} = f(\\mathbf x,t,p),\n",
    "$$\n",
    "where $\\mathbf x$ is the vector of state variables, $t$ is time, and $p$ is a set of parameters that define $f$."
   ]
  },
  {
   "cell_type": "code",
   "execution_count": 3,
   "metadata": {},
   "outputs": [],
   "source": [
    "def f(x, t, p):\n",
    "    x1, x2 = x[0], x[1]\n",
    "    dx1 = x2\n",
    "    dx2 = (- p['K']*x1 - p['B']*x2) / p['M']\n",
    "    return([dx1,dx2])"
   ]
  },
  {
   "cell_type": "markdown",
   "metadata": {},
   "source": [
    "### Solving Function\n",
    "Create a function that will solve the equation $d\\mathbf x/dt = f(\\mathbf x,t,p)$ over the time interval $[0,T]$ given the initial condition $\\mathbf x_0$ and the parameters $p$."
   ]
  },
  {
   "cell_type": "code",
   "execution_count": 12,
   "metadata": {},
   "outputs": [],
   "source": [
    "def run_oscil(x0,T,p):\n",
    "    t = np.linspace(0, T, 1000)\n",
    "    dxdt = lambda x,t : f(x, t, p)\n",
    "    x_t = integrate.odeint(dxdt, x0, t)\n",
    "    return(t,x_t)"
   ]
  },
  {
   "cell_type": "markdown",
   "metadata": {},
   "source": [
    "Use this function to solve for $\\mathbf x(t)$ given $\\mathbf x_0$, $T$, and $p$."
   ]
  },
  {
   "cell_type": "code",
   "execution_count": 11,
   "metadata": {},
   "outputs": [
    {
     "data": {
      "image/png": "[encoded data removed]",
      "text/plain": [
       "<Figure size 432x288 with 1 Axes>"
      ]
     },
     "metadata": {
      "needs_background": "light"
     },
     "output_type": "display_data"
    }
   ],
   "source": [
    "t, x = run_oscil([1e-6,0.0],0.1,p)\n",
    "plt.plot(t,x)\n",
    "plt.xlabel('time [s]')\n",
    "plt.legend(['$x_1(t)$','$x_2(t)$']);"
   ]
  },
  {
   "cell_type": "code",
   "execution_count": null,
   "metadata": {},
   "outputs": [],
   "source": []
  }
 ],
 "metadata": {
  "kernelspec": {
   "display_name": "Python 3",
   "language": "python",
   "name": "python3"
  },
  "language_info": {
   "codemirror_mode": {
    "name": "ipython",
    "version": 3
   },
   "file_extension": ".py",
   "mimetype": "text/x-python",
   "name": "python",
   "nbconvert_exporter": "python",
   "pygments_lexer": "ipython3",
   "version": "3.7.1"
  }
 },
 "nbformat": 4,
 "nbformat_minor": 2
}
